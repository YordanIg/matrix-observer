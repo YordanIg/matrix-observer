{
 "cells": [
  {
   "cell_type": "markdown",
   "metadata": {},
   "source": [
    "Let's begin to investigate how an imperfect drift-scan observation strategy will\n",
    "affect the reconstruction of foreground alm."
   ]
  },
  {
   "cell_type": "code",
   "execution_count": 1,
   "metadata": {},
   "outputs": [],
   "source": [
    "from pygdsm import GlobalSkyModel2016\n",
    "import healpy as hp\n",
    "import numpy as np\n",
    "from scipy.special import eval_legendre\n",
    "import matplotlib.pyplot as plt\n",
    "import seaborn as sns\n",
    "\n",
    "import src.beam_functions as BF\n",
    "import src.spherical_harmonics as SH\n",
    "import src.forward_model as FM\n",
    "import src.sky_models as SM\n",
    "import src.map_making as MM\n",
    "\n",
    "RS = SH.RealSphericalHarmonics()"
   ]
  },
  {
   "cell_type": "code",
   "execution_count": null,
   "metadata": {},
   "outputs": [],
   "source": []
  }
 ],
 "metadata": {
  "kernelspec": {
   "display_name": "venv_mat",
   "language": "python",
   "name": "python3"
  },
  "language_info": {
   "codemirror_mode": {
    "name": "ipython",
    "version": 3
   },
   "file_extension": ".py",
   "mimetype": "text/x-python",
   "name": "python",
   "nbconvert_exporter": "python",
   "pygments_lexer": "ipython3",
   "version": "3.10.5"
  }
 },
 "nbformat": 4,
 "nbformat_minor": 2
}
