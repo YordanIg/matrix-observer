{
 "cells": [
  {
   "cell_type": "code",
   "execution_count": 1,
   "id": "328a28ef-bdef-4d25-8812-bdd071dc138d",
   "metadata": {},
   "outputs": [],
   "source": [
    "from functools import partial\n",
    "\n",
    "import matplotlib.pyplot as plt\n",
    "import numpy as np\n",
    "from scipy.optimize import curve_fit\n",
    "\n",
    "import healpy as hp\n",
    "\n",
    "import fig_gen as fg\n",
    "import src.observing as OBS\n",
    "import src.sky_models as SM\n",
    "import src.spherical_harmonics as SH\n",
    "import src.forward_model as FM\n",
    "import src.beam_functions as BF\n",
    "import src.map_making as MM\n",
    "from src.blockmat import BlockMatrix, BlockVector\n",
    "import nregions_inference as NRI\n",
    "nuarr = np.linspace(50,100,51)\n",
    "from binwise_modelling import fg_cm21_chrom_corr\n",
    "\n",
    "RS = SH.RealSphericalHarmonics()\n",
    "from fig_gen import construct_runstr\n",
    "from chainconsumer import ChainConsumer"
   ]
  },
  {
   "cell_type": "code",
   "execution_count": 2,
   "id": "a6b50f33-af6f-45c8-9fba-d2731271368d",
   "metadata": {},
   "outputs": [
    {
     "name": "stdout",
     "output_type": "stream",
     "text": [
      "successfully loaded spherical_harmonic_matrix npix, nalm : 12288 561\n",
      "Using GSMA foregrounds with basemap error None\n"
     ]
    },
    {
     "name": "stderr",
     "output_type": "stream",
     "text": [
      "/Users/yordani/Documents/boosted_compass/matrix-observer/src/spherical_harmonics.py:133: ComplexWarning: Casting complex values to real discards the imaginary part\n",
      "  almr[idxr_p] = almc[idxc]\n"
     ]
    },
    {
     "name": "stdout",
     "output_type": "stream",
     "text": [
      "Data generated with noise 0.03196626287899847 K at 50 MHz in the first bin\n",
      "successfully loaded spherical_harmonic_matrix npix, nalm : 12288 561\n",
      "par est: [ 8.59175932e+00 -2.73433530e+00 -1.87542025e-03]\n",
      "std devs: [2.50617131e-05 1.86688437e-04 4.58678673e-04]\n",
      "using p0 from chromatic 1.6e-2 estimate\n",
      "Maximising likelihood succeeded\n",
      "par est: [ 8.59201397e+00 -2.73229186e+00 -3.62554516e-03 -2.00000000e+00\n",
      "  8.01531142e+01  1.46826222e+01]\n",
      "bic is  5813.131475620496\n",
      "given by 23.590953796345953 - 2x-2894.7702609120747\n",
      "saving bic\n"
     ]
    }
   ],
   "source": [
    "fg_cm21_chrom_corr(Npoly=3, mcmc=False, chrom=1.6e-2, basemap_err=None, savetag='M', times=None, lats=None, mcmc_pos=None)\n"
   ]
  },
  {
   "cell_type": "code",
   "execution_count": 3,
   "id": "7d0a5c29-e0af-423f-b6a6-fcce16fc4255",
   "metadata": {},
   "outputs": [
    {
     "name": "stdout",
     "output_type": "stream",
     "text": [
      "successfully loaded spherical_harmonic_matrix npix, nalm : 12288 561\n",
      "Using GSMA foregrounds with basemap error None\n"
     ]
    },
    {
     "name": "stderr",
     "output_type": "stream",
     "text": [
      "/Users/yordani/Documents/boosted_compass/matrix-observer/src/spherical_harmonics.py:133: ComplexWarning: Casting complex values to real discards the imaginary part\n",
      "  almr[idxr_p] = almc[idxc]\n"
     ]
    },
    {
     "name": "stdout",
     "output_type": "stream",
     "text": [
      "Data generated with noise 0.03196626287899847 K at 50 MHz in the first bin\n",
      "successfully loaded spherical_harmonic_matrix npix, nalm : 12288 561\n",
      "par est: [ 8.59190855 -2.73406541 -0.01096031  0.01731845]\n",
      "std devs: [7.38086998e-06 4.21989055e-05 3.13834317e-04 5.66171101e-04]\n",
      "using p0 from chromatic 1.6e-2 estimate\n",
      "Maximising likelihood succeeded\n",
      "par est: [ 8.59192086e+00 -2.73339795e+00 -6.99277009e-03  1.06860218e-02\n",
      " -9.74368126e-01  8.57213760e+01  1.46996134e+01]\n",
      "bic is  482.3015820417057\n",
      "given by 27.52277942907028 - 2x-227.3894013063177\n",
      "saving bic\n"
     ]
    }
   ],
   "source": [
    "fg_cm21_chrom_corr(Npoly=4, mcmc=False, chrom=1.6e-2, basemap_err=None, savetag='M', times=None, lats=None, mcmc_pos=None)\n"
   ]
  },
  {
   "cell_type": "code",
   "execution_count": 6,
   "id": "260ac8b8-9c47-43ef-9165-57ac27beb0b7",
   "metadata": {},
   "outputs": [
    {
     "name": "stdout",
     "output_type": "stream",
     "text": [
      "successfully loaded spherical_harmonic_matrix npix, nalm : 12288 561\n",
      "Using GSMA foregrounds with basemap error None\n"
     ]
    },
    {
     "name": "stderr",
     "output_type": "stream",
     "text": [
      "/Users/yordani/Documents/boosted_compass/matrix-observer/src/spherical_harmonics.py:133: ComplexWarning: Casting complex values to real discards the imaginary part\n",
      "  almr[idxr_p] = almc[idxc]\n"
     ]
    },
    {
     "name": "stdout",
     "output_type": "stream",
     "text": [
      "Data generated with noise 0.03196626287899847 K at 50 MHz in the first bin\n",
      "successfully loaded spherical_harmonic_matrix npix, nalm : 12288 561\n",
      "par est: [ 8.59188494e+00 -2.73367802e+00 -9.46867865e-03  2.35165692e-03\n",
      "  2.18049422e-02]\n",
      "std devs: [4.99081285e-07 4.33011119e-06 2.34116623e-05 1.38576378e-04\n",
      " 1.95385449e-04]\n",
      "using p0 from chromatic 1.6e-2 estimate\n",
      "Maximising likelihood succeeded\n",
      "par est: [ 8.59188801e+00 -2.73365296e+00 -9.24964120e-03  3.04988554e-03\n",
      "  1.99468477e-02 -8.49744857e-02  8.57558864e+01  1.46979998e+01]\n",
      "bic is  90.19495850216916\n",
      "given by 31.454605061794606 - 2x-29.370176720187274\n",
      "saving bic\n"
     ]
    }
   ],
   "source": [
    "fg_cm21_chrom_corr(Npoly=5, mcmc=False, chrom=1.6e-2, basemap_err=None, savetag='M', times=None, lats=None, mcmc_pos=None)\n"
   ]
  },
  {
   "cell_type": "code",
   "execution_count": 2,
   "id": "93779d45-f864-4e6a-9521-18f7304e6bb5",
   "metadata": {},
   "outputs": [
    {
     "name": "stdout",
     "output_type": "stream",
     "text": [
      "successfully loaded spherical_harmonic_matrix npix, nalm : 12288 561\n",
      "Using GSMA foregrounds with basemap error None\n"
     ]
    },
    {
     "name": "stderr",
     "output_type": "stream",
     "text": [
      "/Users/yordani/Documents/boosted_compass/matrix-observer/src/spherical_harmonics.py:133: ComplexWarning: Casting complex values to real discards the imaginary part\n",
      "  almr[idxr_p] = almc[idxc]\n"
     ]
    },
    {
     "name": "stdout",
     "output_type": "stream",
     "text": [
      "Data generated with noise 0.03196626287899847 K at 50 MHz in the first bin\n",
      "successfully loaded spherical_harmonic_matrix npix, nalm : 12288 561\n",
      "par est: [ 8.59188443e+00 -2.73370239e+00 -9.34248697e-03  3.16257416e-03\n",
      "  1.71758888e-02  5.44914123e-03]\n",
      "std devs: [3.53101861e-07 4.54873274e-06 2.39884595e-05 1.49050407e-04\n",
      " 6.64852996e-04 7.66081219e-04]\n",
      "using p0 from chromatic 1.6e-2 estimate\n",
      "Maximising likelihood succeeded\n",
      "par est: [ 8.59188444e+00 -2.73370177e+00 -9.34022256e-03  3.16605164e-03\n",
      "  1.71538623e-02  5.46729854e-03 -1.00097545e-03  8.57553551e+01\n",
      "  1.46992552e+01]\n",
      "bic is  64.77491119957146\n",
      "given by 35.38643069451893 - 2x-14.694240252526269\n",
      "saving bic\n"
     ]
    }
   ],
   "source": [
    "fg_cm21_chrom_corr(Npoly=6, mcmc=False, chrom=1.6e-2, basemap_err=None, savetag='M', times=None, lats=None, mcmc_pos=None)\n"
   ]
  },
  {
   "cell_type": "code",
   "execution_count": 3,
   "id": "a2fbdfd9-7855-40ec-beae-a979a601d981",
   "metadata": {},
   "outputs": [
    {
     "name": "stdout",
     "output_type": "stream",
     "text": [
      "successfully loaded spherical_harmonic_matrix npix, nalm : 12288 561\n",
      "Using GSMA foregrounds with basemap error None\n"
     ]
    },
    {
     "name": "stderr",
     "output_type": "stream",
     "text": [
      "/Users/yordani/Documents/boosted_compass/matrix-observer/src/spherical_harmonics.py:133: ComplexWarning: Casting complex values to real discards the imaginary part\n",
      "  almr[idxr_p] = almc[idxc]\n"
     ]
    },
    {
     "name": "stdout",
     "output_type": "stream",
     "text": [
      "Data generated with noise 0.03196626287899847 K at 50 MHz in the first bin\n",
      "successfully loaded spherical_harmonic_matrix npix, nalm : 12288 561\n",
      "par est: [ 8.59188533e+00 -2.73370098e+00 -9.53218492e-03  3.53597495e-03\n",
      "  2.18475620e-02 -1.30476102e-02  1.82788560e-02]\n",
      "std devs: [3.29679585e-07 3.58341510e-06 4.02856548e-05 1.35475540e-04\n",
      " 1.01847920e-03 3.49779273e-03 3.39862547e-03]\n",
      "using p0 from chromatic 1.6e-2 estimate\n",
      "Maximising likelihood succeeded\n",
      "par est: [ 8.59188478e+00 -2.73370310e+00 -9.41019252e-03  3.37893481e-03\n",
      "  1.88256537e-02 -2.04418167e-03  7.78861635e-03 -1.00089357e-03\n",
      "  8.57604057e+01  1.46959036e+01]\n",
      "bic is  61.10433422140656\n",
      "given by 39.318256327243255 - 2x-10.893038947081655\n",
      "saving bic\n"
     ]
    }
   ],
   "source": [
    "fg_cm21_chrom_corr(Npoly=7, mcmc=False, chrom=1.6e-2, basemap_err=None, savetag='M', times=None, lats=None, mcmc_pos=None)\n"
   ]
  },
  {
   "cell_type": "code",
   "execution_count": 4,
   "id": "6f76d5a8-9e76-4163-b1bb-8b55e930025e",
   "metadata": {},
   "outputs": [
    {
     "name": "stdout",
     "output_type": "stream",
     "text": [
      "successfully loaded spherical_harmonic_matrix npix, nalm : 12288 561\n",
      "Using GSMA foregrounds with basemap error None\n"
     ]
    },
    {
     "name": "stderr",
     "output_type": "stream",
     "text": [
      "/Users/yordani/Documents/boosted_compass/matrix-observer/src/spherical_harmonics.py:133: ComplexWarning: Casting complex values to real discards the imaginary part\n",
      "  almr[idxr_p] = almc[idxc]\n"
     ]
    },
    {
     "name": "stdout",
     "output_type": "stream",
     "text": [
      "Data generated with noise 0.03196626287899847 K at 50 MHz in the first bin\n",
      "successfully loaded spherical_harmonic_matrix npix, nalm : 12288 561\n",
      "par est: [ 8.59057571 -2.7263767  -0.02317847]\n",
      "std devs: [5.43707998e-05 4.01149336e-04 9.88613544e-04]\n",
      "Maximising likelihood succeeded\n",
      "par est: [ 8.59069542e+00 -2.72462985e+00 -2.42434325e-02 -2.00000000e+00\n",
      "  8.43741232e+01  8.64250522e+00]\n",
      "bic is  101154.08265131804\n",
      "given by 23.590953796345953 - 2x-50565.245848760846\n",
      "saving bic\n"
     ]
    }
   ],
   "source": [
    "fg_cm21_chrom_corr(Npoly=3, mcmc=False, chrom=3.4e-2, basemap_err=None, savetag='M', times=None, lats=None, mcmc_pos=None)\n"
   ]
  },
  {
   "cell_type": "code",
   "execution_count": 2,
   "id": "634947c7-3f28-455c-b1b3-310e566fad29",
   "metadata": {},
   "outputs": [
    {
     "name": "stdout",
     "output_type": "stream",
     "text": [
      "successfully loaded spherical_harmonic_matrix npix, nalm : 12288 561\n",
      "Using GSMA foregrounds with basemap error None\n"
     ]
    },
    {
     "name": "stderr",
     "output_type": "stream",
     "text": [
      "/Users/yordani/Documents/boosted_compass/matrix-observer/src/spherical_harmonics.py:133: ComplexWarning: Casting complex values to real discards the imaginary part\n",
      "  almr[idxr_p] = almc[idxc]\n"
     ]
    },
    {
     "name": "stdout",
     "output_type": "stream",
     "text": [
      "Data generated with noise 0.03196626287899847 K at 50 MHz in the first bin\n",
      "successfully loaded spherical_harmonic_matrix npix, nalm : 12288 561\n",
      "par est: [ 8.59087508 -2.72588914 -0.04105499  0.03413566]\n",
      "std devs: [3.32894984e-05 1.86949231e-04 1.39786828e-03 2.52574363e-03]\n",
      "using p0 from chromatic 3.4e-2 estimate\n",
      "here\n",
      "value of log-posterior at p0: -67198.71399990935\n",
      "Maximising likelihood succeeded\n",
      "par est: [ 8.59069038e+00 -2.72464793e+00 -2.42013857e-02  5.32476441e-05\n",
      " -2.00000000e+00  8.44937521e+01  8.53367471e+00]\n",
      "bic is  100839.45607393501\n",
      "given by 27.52277942907028 - 2x-50405.96664725297\n",
      "saving bic\n"
     ]
    }
   ],
   "source": [
    "fg_cm21_chrom_corr(Npoly=4, mcmc=False, chrom=3.4e-2, basemap_err=None, savetag='M', times=None, lats=None, mcmc_pos=None)\n"
   ]
  },
  {
   "cell_type": "code",
   "execution_count": 2,
   "id": "796f05a7-1c48-4272-99c9-58e37b6841be",
   "metadata": {},
   "outputs": [
    {
     "name": "stdout",
     "output_type": "stream",
     "text": [
      "successfully loaded spherical_harmonic_matrix npix, nalm : 12288 561\n",
      "Using GSMA foregrounds with basemap error None\n"
     ]
    },
    {
     "name": "stderr",
     "output_type": "stream",
     "text": [
      "/Users/yordani/Documents/boosted_compass/matrix-observer/src/spherical_harmonics.py:133: ComplexWarning: Casting complex values to real discards the imaginary part\n",
      "  almr[idxr_p] = almc[idxc]\n"
     ]
    },
    {
     "name": "stdout",
     "output_type": "stream",
     "text": [
      "Data generated with noise 0.03196626287899847 K at 50 MHz in the first bin\n",
      "successfully loaded spherical_harmonic_matrix npix, nalm : 12288 561\n",
      "par est: [ 8.59077196 -2.72412769 -0.03452913 -0.03262329  0.09738259]\n",
      "std devs: [1.62635456e-06 1.41527006e-05 7.52917975e-05 4.48174489e-04\n",
      " 6.32856352e-04]\n",
      "using p0 from chromatic 3.4e-2 estimate\n",
      "value of log-posterior at p0: -66628.78134962534\n",
      "Maximising likelihood succeeded\n",
      "par est: [ 8.59075030e+00 -2.72420652e+00 -2.68275199e-02  1.41746202e-05\n",
      "  6.57631492e-03 -1.99999475e+00  8.42675293e+01  8.90438747e+00]\n",
      "bic is  68137.57860019755\n",
      "given by 31.454605061794606 - 2x-34053.06199756788\n",
      "saving bic\n"
     ]
    }
   ],
   "source": [
    "fg_cm21_chrom_corr(Npoly=5, mcmc=False, chrom=3.4e-2, basemap_err=None, savetag='M', times=None, lats=None, mcmc_pos=None)\n"
   ]
  },
  {
   "cell_type": "code",
   "execution_count": 2,
   "id": "4b48a90e-0860-450e-a135-9ffd45554812",
   "metadata": {},
   "outputs": [
    {
     "name": "stdout",
     "output_type": "stream",
     "text": [
      "successfully loaded spherical_harmonic_matrix npix, nalm : 12288 561\n",
      "Using GSMA foregrounds with basemap error None\n"
     ]
    },
    {
     "name": "stderr",
     "output_type": "stream",
     "text": [
      "/Users/yordani/Documents/boosted_compass/matrix-observer/src/spherical_harmonics.py:133: ComplexWarning: Casting complex values to real discards the imaginary part\n",
      "  almr[idxr_p] = almc[idxc]\n"
     ]
    },
    {
     "name": "stdout",
     "output_type": "stream",
     "text": [
      "Data generated with noise 0.03196626287899847 K at 50 MHz in the first bin\n",
      "successfully loaded spherical_harmonic_matrix npix, nalm : 12288 561\n",
      "par est: [ 8.59076978 -2.72422049 -0.03403428 -0.02956048  0.07969546  0.02085692]\n",
      "std devs: [8.63580905e-07 1.10464484e-05 5.87929683e-05 3.58170333e-04\n",
      " 1.60885762e-03 1.85697794e-03]\n",
      "using p0 from chromatic 3.4e-2 estimate\n",
      "here\n",
      "value of log-posterior at p0: -34619.62130286673\n",
      "Maximising likelihood succeeded\n",
      "par est: [ 8.59082170e+00 -2.72390407e+00 -3.05453909e-02 -9.16247557e-03\n",
      "  6.19203128e-02 -2.72344308e-02 -2.00000000e+00  8.74113343e+01\n",
      "  1.36358159e+01]\n",
      "bic is  2235.3689844458613\n",
      "given by 35.38643069451893 - 2x-1099.9912768756712\n",
      "saving bic\n"
     ]
    }
   ],
   "source": [
    "fg_cm21_chrom_corr(Npoly=6, mcmc=False, chrom=3.4e-2, basemap_err=None, savetag='M', times=None, lats=None, mcmc_pos=None)\n"
   ]
  },
  {
   "cell_type": "code",
   "execution_count": 2,
   "id": "d379129c-a20e-4d80-890b-4d17a6d9607f",
   "metadata": {},
   "outputs": [
    {
     "name": "stdout",
     "output_type": "stream",
     "text": [
      "successfully loaded spherical_harmonic_matrix npix, nalm : 12288 561\n",
      "Using GSMA foregrounds with basemap error None\n"
     ]
    },
    {
     "name": "stderr",
     "output_type": "stream",
     "text": [
      "/Users/yordani/Documents/boosted_compass/matrix-observer/src/spherical_harmonics.py:133: ComplexWarning: Casting complex values to real discards the imaginary part\n",
      "  almr[idxr_p] = almc[idxc]\n"
     ]
    },
    {
     "name": "stdout",
     "output_type": "stream",
     "text": [
      "Data generated with noise 0.03196626287899847 K at 50 MHz in the first bin\n",
      "successfully loaded spherical_harmonic_matrix npix, nalm : 12288 561\n",
      "par est: [ 8.59076653 -2.72422412 -0.03335874 -0.03093495  0.0632219   0.08644945\n",
      " -0.06486787]\n",
      "std devs: [4.03689123e-07 4.40177980e-06 4.96123630e-05 1.68327625e-04\n",
      " 1.24232126e-03 4.31002587e-03 4.20128299e-03]\n",
      "using p0 from chromatic 3.4e-2 estimate\n",
      "value of log-posterior at p0: -15842.905184576653\n",
      "Maximising likelihood succeeded\n",
      "par est: [ 8.59083537e+00 -2.72369539e+00 -2.99579958e-02 -1.39050318e-02\n",
      "  5.75151815e-02 -7.23153619e-03  2.53203341e-03 -1.98441119e+00\n",
      "  8.74181040e+01  1.49999999e+01]\n",
      "bic is  856.3071038971584\n",
      "given by 39.318256327243255 - 2x-408.4944237849576\n",
      "saving bic\n"
     ]
    }
   ],
   "source": [
    "fg_cm21_chrom_corr(Npoly=7, mcmc=False, chrom=3.4e-2, basemap_err=None, savetag='M', times=None, lats=None, mcmc_pos=None)\n"
   ]
  },
  {
   "cell_type": "code",
   "execution_count": null,
   "id": "4b1c701b-6e65-4477-8773-badb8826bdd4",
   "metadata": {},
   "outputs": [],
   "source": []
  }
 ],
 "metadata": {
  "kernelspec": {
   "display_name": "Python 3 (ipykernel)",
   "language": "python",
   "name": "python3"
  },
  "language_info": {
   "codemirror_mode": {
    "name": "ipython",
    "version": 3
   },
   "file_extension": ".py",
   "mimetype": "text/x-python",
   "name": "python",
   "nbconvert_exporter": "python",
   "pygments_lexer": "ipython3",
   "version": "3.10.5"
  }
 },
 "nbformat": 4,
 "nbformat_minor": 5
}
